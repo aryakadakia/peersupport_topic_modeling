{
 "cells": [
  {
   "cell_type": "code",
   "execution_count": 17,
   "metadata": {},
   "outputs": [],
   "source": [
    "import pandas as pd\n",
    "import numpy as np\n",
    "from gensim.models import LdaModel, LdaMulticore\n",
    "from gensim import corpora\n",
    "from tqdm import tqdm, trange\n",
    "\n",
    "import string\n",
    "import re\n",
    "import nltk\n",
    "from nltk.tokenize import word_tokenize\n",
    "from nltk.stem.porter import PorterStemmer\n",
    "from nltk.stem import WordNetLemmatizer"
   ]
  },
  {
   "cell_type": "code",
   "execution_count": 3,
   "metadata": {},
   "outputs": [
    {
     "data": {
      "text/html": [
       "<div>\n",
       "<style scoped>\n",
       "    .dataframe tbody tr th:only-of-type {\n",
       "        vertical-align: middle;\n",
       "    }\n",
       "\n",
       "    .dataframe tbody tr th {\n",
       "        vertical-align: top;\n",
       "    }\n",
       "\n",
       "    .dataframe thead th {\n",
       "        text-align: right;\n",
       "    }\n",
       "</style>\n",
       "<table border=\"1\" class=\"dataframe\">\n",
       "  <thead>\n",
       "    <tr style=\"text-align: right;\">\n",
       "      <th></th>\n",
       "      <th>FidelityLevel</th>\n",
       "      <th>Phrase</th>\n",
       "    </tr>\n",
       "  </thead>\n",
       "  <tbody>\n",
       "    <tr>\n",
       "      <th>0</th>\n",
       "      <td>High fidelity</td>\n",
       "      <td>important the relationship between mental and ...</td>\n",
       "    </tr>\n",
       "    <tr>\n",
       "      <th>1</th>\n",
       "      <td>High fidelity</td>\n",
       "      <td>problems with their physical health and psycho...</td>\n",
       "    </tr>\n",
       "    <tr>\n",
       "      <th>2</th>\n",
       "      <td>High fidelity</td>\n",
       "      <td>stress impacts our health</td>\n",
       "    </tr>\n",
       "    <tr>\n",
       "      <th>3</th>\n",
       "      <td>High fidelity</td>\n",
       "      <td>understand how mental and physical health cond...</td>\n",
       "    </tr>\n",
       "    <tr>\n",
       "      <th>4</th>\n",
       "      <td>High fidelity</td>\n",
       "      <td>get what you want out of life.</td>\n",
       "    </tr>\n",
       "  </tbody>\n",
       "</table>\n",
       "</div>"
      ],
      "text/plain": [
       "   FidelityLevel                                             Phrase\n",
       "0  High fidelity  important the relationship between mental and ...\n",
       "1  High fidelity  problems with their physical health and psycho...\n",
       "2  High fidelity                          stress impacts our health\n",
       "3  High fidelity  understand how mental and physical health cond...\n",
       "4  High fidelity                     get what you want out of life."
      ]
     },
     "execution_count": 3,
     "metadata": {},
     "output_type": "execute_result"
    }
   ],
   "source": [
    "data = pd.read_csv('data/data.csv')\n",
    "data.head()"
   ]
  },
  {
   "cell_type": "code",
   "execution_count": 4,
   "metadata": {},
   "outputs": [],
   "source": [
    "documents = list(data['Phrase'])"
   ]
  },
  {
   "cell_type": "code",
   "execution_count": 8,
   "metadata": {},
   "outputs": [],
   "source": [
    "def remove_punctuation(text):\n",
    "    text = str(text)\n",
    "    punctuationfree=\"\".join([i for i in text if i not in string.punctuation])\n",
    "    return punctuationfree\n",
    "\n",
    "def tokenization(text):\n",
    "    return word_tokenize(text)\n",
    "\n",
    "stopwords = nltk.corpus.stopwords.words('english')\n",
    "def remove_stopwords(text):\n",
    "    output= [i for i in text if i not in stopwords]\n",
    "    return output\n",
    "\n",
    "porter_stemmer = PorterStemmer()\n",
    "def stemming(text):\n",
    "    stem_text = [porter_stemmer.stem(word) for word in text]\n",
    "    return stem_text\n",
    "\n",
    "wordnet_lemmatizer = WordNetLemmatizer()\n",
    "def lemmatizer(text):\n",
    "    lemm_text = [wordnet_lemmatizer.lemmatize(word) for word in text]\n",
    "    return lemm_text"
   ]
  },
  {
   "cell_type": "code",
   "execution_count": 9,
   "metadata": {},
   "outputs": [],
   "source": [
    "data['Phrase']= data['Phrase'].apply(lambda x:remove_punctuation(x))\n",
    "data['Phrase']= data['Phrase'].apply(lambda x: x.lower())\n",
    "data['Phrase']= data['Phrase'].apply(lambda x: tokenization(x))\n",
    "data['Phrase']= data['Phrase'].apply(lambda x:remove_stopwords(x))\n",
    "data['Phrase']= data['Phrase'].apply(lambda x: stemming(x))\n",
    "data['Phrase']= data['Phrase'].apply(lambda x:lemmatizer(x))"
   ]
  },
  {
   "cell_type": "code",
   "execution_count": 10,
   "metadata": {},
   "outputs": [
    {
     "data": {
      "text/html": [
       "<div>\n",
       "<style scoped>\n",
       "    .dataframe tbody tr th:only-of-type {\n",
       "        vertical-align: middle;\n",
       "    }\n",
       "\n",
       "    .dataframe tbody tr th {\n",
       "        vertical-align: top;\n",
       "    }\n",
       "\n",
       "    .dataframe thead th {\n",
       "        text-align: right;\n",
       "    }\n",
       "</style>\n",
       "<table border=\"1\" class=\"dataframe\">\n",
       "  <thead>\n",
       "    <tr style=\"text-align: right;\">\n",
       "      <th></th>\n",
       "      <th>FidelityLevel</th>\n",
       "      <th>Phrase</th>\n",
       "    </tr>\n",
       "  </thead>\n",
       "  <tbody>\n",
       "    <tr>\n",
       "      <th>0</th>\n",
       "      <td>High fidelity</td>\n",
       "      <td>[import, relationship, mental, physic, health]</td>\n",
       "    </tr>\n",
       "    <tr>\n",
       "      <th>1</th>\n",
       "      <td>High fidelity</td>\n",
       "      <td>[problem, physic, health, psycholog, wellb, ac...</td>\n",
       "    </tr>\n",
       "    <tr>\n",
       "      <th>2</th>\n",
       "      <td>High fidelity</td>\n",
       "      <td>[stress, impact, health]</td>\n",
       "    </tr>\n",
       "    <tr>\n",
       "      <th>3</th>\n",
       "      <td>High fidelity</td>\n",
       "      <td>[understand, mental, physic, health, condit, d...</td>\n",
       "    </tr>\n",
       "    <tr>\n",
       "      <th>4</th>\n",
       "      <td>High fidelity</td>\n",
       "      <td>[get, want, life]</td>\n",
       "    </tr>\n",
       "  </tbody>\n",
       "</table>\n",
       "</div>"
      ],
      "text/plain": [
       "   FidelityLevel                                             Phrase\n",
       "0  High fidelity     [import, relationship, mental, physic, health]\n",
       "1  High fidelity  [problem, physic, health, psycholog, wellb, ac...\n",
       "2  High fidelity                           [stress, impact, health]\n",
       "3  High fidelity  [understand, mental, physic, health, condit, d...\n",
       "4  High fidelity                                  [get, want, life]"
      ]
     },
     "execution_count": 10,
     "metadata": {},
     "output_type": "execute_result"
    }
   ],
   "source": [
    "data.head()"
   ]
  },
  {
   "cell_type": "code",
   "execution_count": 12,
   "metadata": {},
   "outputs": [],
   "source": [
    "doc_tokens = list(data['Phrase'])"
   ]
  },
  {
   "cell_type": "code",
   "execution_count": 13,
   "metadata": {},
   "outputs": [],
   "source": [
    "id2word = corpora.Dictionary(doc_tokens)"
   ]
  },
  {
   "cell_type": "code",
   "execution_count": 14,
   "metadata": {},
   "outputs": [],
   "source": [
    "corpus = [id2word.doc2bow(text) for text in doc_tokens]"
   ]
  },
  {
   "cell_type": "code",
   "execution_count": 15,
   "metadata": {},
   "outputs": [],
   "source": [
    "from gensim.models import CoherenceModel\n",
    "def compute_coherence_values(dictionary, corpus, texts, limit, start=2, step=3): \n",
    "    \"\"\"\n",
    "    Compute c_v coherence for various number of topics\n",
    "    Parameters:\n",
    "    ----------\n",
    "    dictionary : Gensim dictionary\n",
    "    corpus : Gensim corpus\n",
    "    texts : List of input texts\n",
    "    limit : Max num of topics\n",
    "    Returns:\n",
    "    -------\n",
    "    model_list : List of LDA topic models\n",
    "    coherence_values : Coherence values corresponding to the LDA model with respect \"\"\"\n",
    "    coherence_values = []\n",
    "    model_list = []\n",
    "    for num_topics in tqdm(range(start, limit, step)):\n",
    "        model = LdaMulticore(corpus=corpus, num_topics=num_topics, id2word=id2word, iterations=600, passes=2) \n",
    "        model_list.append(model)\n",
    "        coherencemodel = CoherenceModel(model=model, corpus=corpus, dictionary=dictionary, coherence='u_mass')\n",
    "#        coherencemodel = CoherenceModel(model=model, texts=texts, dictionary=dictionary, coherence='c_v')\n",
    "        coherence_values.append(coherencemodel.get_coherence())\n",
    "    return model_list, coherence_values"
   ]
  },
  {
   "cell_type": "code",
   "execution_count": 18,
   "metadata": {},
   "outputs": [
    {
     "name": "stderr",
     "output_type": "stream",
     "text": [
      "100%|██████████| 8/8 [00:11<00:00,  1.44s/it]\n"
     ]
    }
   ],
   "source": [
    "topic_count_start = 2\n",
    "topic_count_step = 1\n",
    "topic_count_limit = 10\n",
    "# Can take a long time to run.\n",
    "model_list, coherence_values = compute_coherence_values(dictionary=id2word, \n",
    "                                                        corpus=corpus, texts=None, \n",
    "                                                        limit=topic_count_limit, \n",
    "                                                        start=topic_count_start, \n",
    "                                                        step=topic_count_step)\n",
    "#  compute_coherence_values(dictionary=id2word, corpus=corpus, texts=doc_tokens, limit=topic_count_limit, start=topic_count_start, step=topic_count_step)"
   ]
  },
  {
   "cell_type": "code",
   "execution_count": 19,
   "metadata": {},
   "outputs": [
    {
     "data": {
      "text/plain": [
       "[-10.498694774162054,\n",
       " -12.023528295421942,\n",
       " -12.70111201396885,\n",
       " -13.953375358473764,\n",
       " -13.571155873009948,\n",
       " -14.760390660297967,\n",
       " -14.348811259018099,\n",
       " -14.990677620995292]"
      ]
     },
     "execution_count": 19,
     "metadata": {},
     "output_type": "execute_result"
    }
   ],
   "source": [
    "coherence_values"
   ]
  },
  {
   "cell_type": "code",
   "execution_count": 21,
   "metadata": {},
   "outputs": [
    {
     "data": {
      "image/png": "[encoded data removed]",
      "text/plain": [
       "<Figure size 432x288 with 1 Axes>"
      ]
     },
     "metadata": {
      "needs_background": "light"
     },
     "output_type": "display_data"
    }
   ],
   "source": [
    "import matplotlib.pyplot as plt \n",
    "%matplotlib inline\n",
    "# Show graph\n",
    "x = range(topic_count_start, topic_count_limit, topic_count_step)\n",
    "plt.plot(x, coherence_values) \n",
    "plt.xlabel(\"Num Topics\") \n",
    "plt.ylabel(\"Coherence score\") \n",
    "plt.legend((\"coherence_values\"), loc='best') \n",
    "plt.show()"
   ]
  },
  {
   "cell_type": "code",
   "execution_count": 22,
   "metadata": {},
   "outputs": [
    {
     "name": "stdout",
     "output_type": "stream",
     "text": [
      "-10.498694774162054\n"
     ]
    }
   ],
   "source": [
    "topic_idx = np.argmax(coherence_values)\n",
    "print(coherence_values[topic_idx]) \n",
    "test_lda = model_list[topic_idx]"
   ]
  },
  {
   "cell_type": "code",
   "execution_count": 23,
   "metadata": {},
   "outputs": [
    {
     "data": {
      "text/plain": [
       "2"
      ]
     },
     "execution_count": 23,
     "metadata": {},
     "output_type": "execute_result"
    }
   ],
   "source": [
    "test_lda.num_topics"
   ]
  },
  {
   "cell_type": "code",
   "execution_count": 24,
   "metadata": {},
   "outputs": [],
   "source": [
    "n_topics = test_lda.num_topics\n",
    "col_names = []\n",
    "for x in range(n_topics):\n",
    "    topic_name = f\"Topic{x+1}\"\n",
    "    col_names.append((topic_name, \"Word\"))\n",
    "    col_names.append((topic_name, \"Weight\"))"
   ]
  },
  {
   "cell_type": "code",
   "execution_count": 25,
   "metadata": {},
   "outputs": [],
   "source": [
    "tw_df = pd.DataFrame()"
   ]
  },
  {
   "cell_type": "code",
   "execution_count": 26,
   "metadata": {},
   "outputs": [],
   "source": [
    "data = []\n",
    "for x in range(n_topics):\n",
    "    top_words = test_lda.show_topic(x, 20)\n",
    "    words = []\n",
    "    weights = []\n",
    "    for word_weight in top_words:\n",
    "        words.append(word_weight[0])\n",
    "        weights.append(word_weight[1])\n",
    "    data.append(words)\n",
    "    data.append(weights)\n",
    "    tw_df[f\"Word{x+1}\"] = words\n",
    "    tw_df[f\"Weight{x+1}\"] = weights   "
   ]
  },
  {
   "cell_type": "code",
   "execution_count": 27,
   "metadata": {},
   "outputs": [],
   "source": [
    "tw_df.columns = pd.MultiIndex.from_tuples(col_names)"
   ]
  },
  {
   "cell_type": "code",
   "execution_count": 28,
   "metadata": {},
   "outputs": [
    {
     "data": {
      "text/html": [
       "<div>\n",
       "<style scoped>\n",
       "    .dataframe tbody tr th:only-of-type {\n",
       "        vertical-align: middle;\n",
       "    }\n",
       "\n",
       "    .dataframe tbody tr th {\n",
       "        vertical-align: top;\n",
       "    }\n",
       "\n",
       "    .dataframe thead tr th {\n",
       "        text-align: left;\n",
       "    }\n",
       "</style>\n",
       "<table border=\"1\" class=\"dataframe\">\n",
       "  <thead>\n",
       "    <tr>\n",
       "      <th></th>\n",
       "      <th colspan=\"2\" halign=\"left\">Topic1</th>\n",
       "      <th colspan=\"2\" halign=\"left\">Topic2</th>\n",
       "    </tr>\n",
       "    <tr>\n",
       "      <th></th>\n",
       "      <th>Word</th>\n",
       "      <th>Weight</th>\n",
       "      <th>Word</th>\n",
       "      <th>Weight</th>\n",
       "    </tr>\n",
       "  </thead>\n",
       "  <tbody>\n",
       "    <tr>\n",
       "      <th>0</th>\n",
       "      <td>feel</td>\n",
       "      <td>0.021762</td>\n",
       "      <td>help</td>\n",
       "      <td>0.021512</td>\n",
       "    </tr>\n",
       "    <tr>\n",
       "      <th>1</th>\n",
       "      <td>like</td>\n",
       "      <td>0.019728</td>\n",
       "      <td>get</td>\n",
       "      <td>0.017198</td>\n",
       "    </tr>\n",
       "    <tr>\n",
       "      <th>2</th>\n",
       "      <td>tri</td>\n",
       "      <td>0.017818</td>\n",
       "      <td>dont</td>\n",
       "      <td>0.015505</td>\n",
       "    </tr>\n",
       "    <tr>\n",
       "      <th>3</th>\n",
       "      <td>im</td>\n",
       "      <td>0.015416</td>\n",
       "      <td>feel</td>\n",
       "      <td>0.010559</td>\n",
       "    </tr>\n",
       "    <tr>\n",
       "      <th>4</th>\n",
       "      <td>go</td>\n",
       "      <td>0.013368</td>\n",
       "      <td>that</td>\n",
       "      <td>0.008865</td>\n",
       "    </tr>\n",
       "    <tr>\n",
       "      <th>5</th>\n",
       "      <td>thing</td>\n",
       "      <td>0.009282</td>\n",
       "      <td>hard</td>\n",
       "      <td>0.007967</td>\n",
       "    </tr>\n",
       "    <tr>\n",
       "      <th>6</th>\n",
       "      <td>good</td>\n",
       "      <td>0.007421</td>\n",
       "      <td>life</td>\n",
       "      <td>0.007876</td>\n",
       "    </tr>\n",
       "    <tr>\n",
       "      <th>7</th>\n",
       "      <td>work</td>\n",
       "      <td>0.007287</td>\n",
       "      <td>want</td>\n",
       "      <td>0.007650</td>\n",
       "    </tr>\n",
       "    <tr>\n",
       "      <th>8</th>\n",
       "      <td>realli</td>\n",
       "      <td>0.007150</td>\n",
       "      <td>make</td>\n",
       "      <td>0.007536</td>\n",
       "    </tr>\n",
       "    <tr>\n",
       "      <th>9</th>\n",
       "      <td>yeah</td>\n",
       "      <td>0.007138</td>\n",
       "      <td>need</td>\n",
       "      <td>0.007092</td>\n",
       "    </tr>\n",
       "    <tr>\n",
       "      <th>10</th>\n",
       "      <td>think</td>\n",
       "      <td>0.007105</td>\n",
       "      <td>peopl</td>\n",
       "      <td>0.006811</td>\n",
       "    </tr>\n",
       "    <tr>\n",
       "      <th>11</th>\n",
       "      <td>take</td>\n",
       "      <td>0.007041</td>\n",
       "      <td>think</td>\n",
       "      <td>0.006778</td>\n",
       "    </tr>\n",
       "    <tr>\n",
       "      <th>12</th>\n",
       "      <td>help</td>\n",
       "      <td>0.006093</td>\n",
       "      <td>anxieti</td>\n",
       "      <td>0.006505</td>\n",
       "    </tr>\n",
       "    <tr>\n",
       "      <th>13</th>\n",
       "      <td>one</td>\n",
       "      <td>0.006078</td>\n",
       "      <td>know</td>\n",
       "      <td>0.006413</td>\n",
       "    </tr>\n",
       "    <tr>\n",
       "      <th>14</th>\n",
       "      <td>way</td>\n",
       "      <td>0.006029</td>\n",
       "      <td>like</td>\n",
       "      <td>0.006008</td>\n",
       "    </tr>\n",
       "    <tr>\n",
       "      <th>15</th>\n",
       "      <td>much</td>\n",
       "      <td>0.005981</td>\n",
       "      <td>your</td>\n",
       "      <td>0.005701</td>\n",
       "    </tr>\n",
       "    <tr>\n",
       "      <th>16</th>\n",
       "      <td>your</td>\n",
       "      <td>0.005917</td>\n",
       "      <td>cant</td>\n",
       "      <td>0.005466</td>\n",
       "    </tr>\n",
       "    <tr>\n",
       "      <th>17</th>\n",
       "      <td>stress</td>\n",
       "      <td>0.005769</td>\n",
       "      <td>would</td>\n",
       "      <td>0.005444</td>\n",
       "    </tr>\n",
       "    <tr>\n",
       "      <th>18</th>\n",
       "      <td>better</td>\n",
       "      <td>0.005678</td>\n",
       "      <td>lot</td>\n",
       "      <td>0.005404</td>\n",
       "    </tr>\n",
       "    <tr>\n",
       "      <th>19</th>\n",
       "      <td>find</td>\n",
       "      <td>0.005508</td>\n",
       "      <td>person</td>\n",
       "      <td>0.004946</td>\n",
       "    </tr>\n",
       "  </tbody>\n",
       "</table>\n",
       "</div>"
      ],
      "text/plain": [
       "    Topic1             Topic2          \n",
       "      Word    Weight     Word    Weight\n",
       "0     feel  0.021762     help  0.021512\n",
       "1     like  0.019728      get  0.017198\n",
       "2      tri  0.017818     dont  0.015505\n",
       "3       im  0.015416     feel  0.010559\n",
       "4       go  0.013368     that  0.008865\n",
       "5    thing  0.009282     hard  0.007967\n",
       "6     good  0.007421     life  0.007876\n",
       "7     work  0.007287     want  0.007650\n",
       "8   realli  0.007150     make  0.007536\n",
       "9     yeah  0.007138     need  0.007092\n",
       "10   think  0.007105    peopl  0.006811\n",
       "11    take  0.007041    think  0.006778\n",
       "12    help  0.006093  anxieti  0.006505\n",
       "13     one  0.006078     know  0.006413\n",
       "14     way  0.006029     like  0.006008\n",
       "15    much  0.005981     your  0.005701\n",
       "16    your  0.005917     cant  0.005466\n",
       "17  stress  0.005769    would  0.005444\n",
       "18  better  0.005678      lot  0.005404\n",
       "19    find  0.005508   person  0.004946"
      ]
     },
     "execution_count": 28,
     "metadata": {},
     "output_type": "execute_result"
    }
   ],
   "source": [
    "tw_df"
   ]
  },
  {
   "cell_type": "code",
   "execution_count": null,
   "metadata": {},
   "outputs": [],
   "source": []
  }
 ],
 "metadata": {
  "kernelspec": {
   "display_name": "Python 3",
   "language": "python",
   "name": "python3"
  },
  "language_info": {
   "codemirror_mode": {
    "name": "ipython",
    "version": 3
   },
   "file_extension": ".py",
   "mimetype": "text/x-python",
   "name": "python",
   "nbconvert_exporter": "python",
   "pygments_lexer": "ipython3",
   "version": "3.7.1"
  }
 },
 "nbformat": 4,
 "nbformat_minor": 2
}
